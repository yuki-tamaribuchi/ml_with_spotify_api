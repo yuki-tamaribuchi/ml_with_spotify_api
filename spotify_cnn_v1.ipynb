{
  "nbformat": 4,
  "nbformat_minor": 0,
  "metadata": {
    "colab": {
      "name": "spotify_cnn_v1.ipynb",
      "provenance": [],
      "mount_file_id": "1TOuP3uA_uQqqxBQ0QeE-qaDBL5E4pcZZ",
      "authorship_tag": "ABX9TyOJM0Q0CgUFQRVeVxxT6DT4",
      "include_colab_link": true
    },
    "kernelspec": {
      "name": "python3",
      "display_name": "Python 3"
    }
  },
  "cells": [
    {
      "cell_type": "markdown",
      "metadata": {
        "id": "view-in-github",
        "colab_type": "text"
      },
      "source": [
        "<a href=\"https://colab.research.google.com/github/yuki-tamaribuchi/ml_with_spotify_api/blob/master/spotify_cnn_v1.ipynb\" target=\"_parent\"><img src=\"https://colab.research.google.com/assets/colab-badge.svg\" alt=\"Open In Colab\"/></a>"
      ]
    },
    {
      "cell_type": "code",
      "metadata": {
        "id": "T-zwFDs30rEX"
      },
      "source": [
        "import pandas as pd\n",
        "import numpy as np"
      ],
      "execution_count": 1,
      "outputs": []
    },
    {
      "cell_type": "code",
      "metadata": {
        "id": "Z_keIFal2lzq"
      },
      "source": [
        "df=pd.read_pickle('/content/drive/MyDrive/spotify_df/j-rock-df_20210219_01')"
      ],
      "execution_count": 2,
      "outputs": []
    },
    {
      "cell_type": "code",
      "metadata": {
        "id": "ZTQvSfFq3QUf"
      },
      "source": [
        "cens_data=np.array([cens for cens in df['Cens']])"
      ],
      "execution_count": 3,
      "outputs": []
    },
    {
      "cell_type": "code",
      "metadata": {
        "id": "eJ3ThtZu4fut"
      },
      "source": [
        "reshaped_cens_data=[]\n",
        "\n",
        "for cens in cens_data:\n",
        "  length=cens.shape[1]\n",
        "  reshaped_cens_data.append(cens.reshape(length,12))\n",
        "\n",
        "reshaped_cens_data=np.array(reshaped_cens_data)"
      ],
      "execution_count": 4,
      "outputs": []
    },
    {
      "cell_type": "code",
      "metadata": {
        "id": "hWFTDiuh5E19"
      },
      "source": [
        "import tensorflow as tf\n",
        "from tensorflow.keras import layers\n",
        "from sklearn.model_selection import train_test_split\n",
        "from sklearn.preprocessing import LabelEncoder"
      ],
      "execution_count": 5,
      "outputs": []
    },
    {
      "cell_type": "code",
      "metadata": {
        "id": "vLx6PTHj84vi"
      },
      "source": [
        "artist_label=LabelEncoder().fit_transform(df['Artist'])"
      ],
      "execution_count": 6,
      "outputs": []
    },
    {
      "cell_type": "code",
      "metadata": {
        "id": "XvxquKnw6BqE"
      },
      "source": [
        "X_train,X_test,y_train,y_test=train_test_split(reshaped_cens_data,artist_label,random_state=0)"
      ],
      "execution_count": 7,
      "outputs": []
    },
    {
      "cell_type": "code",
      "metadata": {
        "id": "43S7Ztte5fkT"
      },
      "source": [
        "inputs=layers.Input(shape=(2584,12))\n",
        "x=layers.Conv1D(16,3,padding='same',activation='relu')(inputs)\n",
        "x=layers.MaxPool1D()(x)\n",
        "x=layers.Conv1D(32,3,padding='same',activation='relu')(x)\n",
        "x=layers.MaxPool1D()(x)\n",
        "x=layers.Flatten()(x)\n",
        "x=layers.Dense(3)(x)\n",
        "outputs=layers.Softmax()(x)"
      ],
      "execution_count": 8,
      "outputs": []
    },
    {
      "cell_type": "code",
      "metadata": {
        "id": "8UO4bcAW-hw5"
      },
      "source": [
        "model=tf.keras.Model(inputs=inputs,outputs=outputs)"
      ],
      "execution_count": 9,
      "outputs": []
    },
    {
      "cell_type": "code",
      "metadata": {
        "colab": {
          "base_uri": "https://localhost:8080/"
        },
        "id": "0qQGMCEF_tjC",
        "outputId": "19f195b0-8851-47e7-95c6-c2cedc807196"
      },
      "source": [
        "model.summary()"
      ],
      "execution_count": 10,
      "outputs": [
        {
          "output_type": "stream",
          "text": [
            "Model: \"model\"\n",
            "_________________________________________________________________\n",
            "Layer (type)                 Output Shape              Param #   \n",
            "=================================================================\n",
            "input_1 (InputLayer)         [(None, 2584, 12)]        0         \n",
            "_________________________________________________________________\n",
            "conv1d (Conv1D)              (None, 2584, 16)          592       \n",
            "_________________________________________________________________\n",
            "max_pooling1d (MaxPooling1D) (None, 1292, 16)          0         \n",
            "_________________________________________________________________\n",
            "conv1d_1 (Conv1D)            (None, 1292, 32)          1568      \n",
            "_________________________________________________________________\n",
            "max_pooling1d_1 (MaxPooling1 (None, 646, 32)           0         \n",
            "_________________________________________________________________\n",
            "flatten (Flatten)            (None, 20672)             0         \n",
            "_________________________________________________________________\n",
            "dense (Dense)                (None, 3)                 62019     \n",
            "_________________________________________________________________\n",
            "softmax (Softmax)            (None, 3)                 0         \n",
            "=================================================================\n",
            "Total params: 64,179\n",
            "Trainable params: 64,179\n",
            "Non-trainable params: 0\n",
            "_________________________________________________________________\n"
          ],
          "name": "stdout"
        }
      ]
    },
    {
      "cell_type": "code",
      "metadata": {
        "id": "QSqU2Kfy_vXM"
      },
      "source": [
        "model.compile(\n",
        "    optimizer='adam',\n",
        "    loss='sparse_categorical_crossentropy',\n",
        "    metrics=['accuracy']\n",
        ")"
      ],
      "execution_count": 11,
      "outputs": []
    },
    {
      "cell_type": "code",
      "metadata": {
        "colab": {
          "base_uri": "https://localhost:8080/"
        },
        "id": "BZHvZ9xkAlLQ",
        "outputId": "c8a44b27-eede-452b-b42d-e8114711f782"
      },
      "source": [
        "hist=model.fit(X_train,y_train,epochs=5)"
      ],
      "execution_count": 12,
      "outputs": [
        {
          "output_type": "stream",
          "text": [
            "Epoch 1/5\n",
            "4/4 [==============================] - 1s 68ms/step - loss: 1.3106 - accuracy: 0.2804\n",
            "Epoch 2/5\n",
            "4/4 [==============================] - 0s 63ms/step - loss: 1.1751 - accuracy: 0.4119\n",
            "Epoch 3/5\n",
            "4/4 [==============================] - 0s 67ms/step - loss: 1.1164 - accuracy: 0.5370\n",
            "Epoch 4/5\n",
            "4/4 [==============================] - 0s 63ms/step - loss: 1.0156 - accuracy: 0.5966\n",
            "Epoch 5/5\n",
            "4/4 [==============================] - 0s 64ms/step - loss: 0.9864 - accuracy: 0.5005\n"
          ],
          "name": "stdout"
        }
      ]
    },
    {
      "cell_type": "code",
      "metadata": {
        "colab": {
          "base_uri": "https://localhost:8080/"
        },
        "id": "UPD2DYg6Axxf",
        "outputId": "c555a0b8-551a-45dd-8a5a-32f75f0eb810"
      },
      "source": [
        "model.evaluate(X_test,y_test)"
      ],
      "execution_count": 13,
      "outputs": [
        {
          "output_type": "stream",
          "text": [
            "2/2 [==============================] - 0s 11ms/step - loss: 1.0400 - accuracy: 0.5500\n"
          ],
          "name": "stdout"
        },
        {
          "output_type": "execute_result",
          "data": {
            "text/plain": [
              "[1.0400205850601196, 0.550000011920929]"
            ]
          },
          "metadata": {
            "tags": []
          },
          "execution_count": 13
        }
      ]
    }
  ]
}
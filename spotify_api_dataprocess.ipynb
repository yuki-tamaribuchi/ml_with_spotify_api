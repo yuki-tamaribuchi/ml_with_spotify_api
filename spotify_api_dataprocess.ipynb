{
  "nbformat": 4,
  "nbformat_minor": 0,
  "metadata": {
    "colab": {
      "name": "spotify_api_dataprocess.ipynb",
      "provenance": [],
      "collapsed_sections": [],
      "mount_file_id": "1MxkQFVpRhXX5oMWT6GQvSHPX7MeY3IeI",
      "authorship_tag": "ABX9TyNKkEmN5ZE4XUShhewx1BPj",
      "include_colab_link": true
    },
    "kernelspec": {
      "name": "python3",
      "display_name": "Python 3"
    }
  },
  "cells": [
    {
      "cell_type": "markdown",
      "metadata": {
        "id": "view-in-github",
        "colab_type": "text"
      },
      "source": [
        "<a href=\"https://colab.research.google.com/github/yuki-tamaribuchi/ml_with_spotify_api/blob/master/spotify_api_dataprocess.ipynb\" target=\"_parent\"><img src=\"https://colab.research.google.com/assets/colab-badge.svg\" alt=\"Open In Colab\"/></a>"
      ]
    },
    {
      "cell_type": "code",
      "metadata": {
        "colab": {
          "base_uri": "https://localhost:8080/"
        },
        "id": "qcmrX-7sU_pX",
        "outputId": "2d4ec4a8-e2e7-4365-fa53-85644d9e7896"
      },
      "source": [
        "pip install spotipy pydub tqdm"
      ],
      "execution_count": null,
      "outputs": [
        {
          "output_type": "stream",
          "text": [
            "Requirement already satisfied: spotipy in /usr/local/lib/python3.6/dist-packages (2.16.1)\n",
            "Requirement already satisfied: pydub in /usr/local/lib/python3.6/dist-packages (0.24.1)\n",
            "Requirement already satisfied: tqdm in /usr/local/lib/python3.6/dist-packages (4.41.1)\n",
            "Requirement already satisfied: six>=1.10.0 in /usr/local/lib/python3.6/dist-packages (from spotipy) (1.15.0)\n",
            "Requirement already satisfied: requests>=2.20.0 in /usr/local/lib/python3.6/dist-packages (from spotipy) (2.23.0)\n",
            "Requirement already satisfied: chardet<4,>=3.0.2 in /usr/local/lib/python3.6/dist-packages (from requests>=2.20.0->spotipy) (3.0.4)\n",
            "Requirement already satisfied: idna<3,>=2.5 in /usr/local/lib/python3.6/dist-packages (from requests>=2.20.0->spotipy) (2.10)\n",
            "Requirement already satisfied: urllib3!=1.25.0,!=1.25.1,<1.26,>=1.21.1 in /usr/local/lib/python3.6/dist-packages (from requests>=2.20.0->spotipy) (1.24.3)\n",
            "Requirement already satisfied: certifi>=2017.4.17 in /usr/local/lib/python3.6/dist-packages (from requests>=2.20.0->spotipy) (2020.12.5)\n"
          ],
          "name": "stdout"
        }
      ]
    },
    {
      "cell_type": "code",
      "metadata": {
        "id": "ItsJOMWFTEnh"
      },
      "source": [
        "import spotipy\n",
        "from spotipy.oauth2 import SpotifyClientCredentials\n",
        "import spotipy.util as util\n",
        "import json\n",
        "import sys\n",
        "import os\n",
        "import io\n",
        "import numpy as np\n",
        "import pandas as pd\n",
        "import IPython.display as ipd\n",
        "from pydub import AudioSegment\n",
        "import missingno as msno"
      ],
      "execution_count": null,
      "outputs": []
    },
    {
      "cell_type": "code",
      "metadata": {
        "id": "PAEgwYODU-1l"
      },
      "source": [
        "with open('/content/drive/MyDrive/api_keys/spotify_for_ml.json') as f:\n",
        "  api_key=json.load(f)\n",
        "\n",
        "auth_manager=SpotifyClientCredentials(client_id=api_key['client_id'],client_secret=api_key['client_cecret'])\n",
        "sp=spotipy.Spotify(auth_manager=auth_manager)"
      ],
      "execution_count": null,
      "outputs": []
    },
    {
      "cell_type": "code",
      "metadata": {
        "id": "G3GXrs3hcWGs"
      },
      "source": [
        "def create_df_from_playlist(spotify,playlist_ids):\n",
        "\n",
        "  results=[spotify.playlist_tracks(id) for id in playlist_ids]\n",
        "\n",
        "  track_names=[]\n",
        "  artists=[]\n",
        "  preview_urls=[]\n",
        "\n",
        "  for result in results:\n",
        "    for item in result['items']:\n",
        "      if len(item['track']['artists'])==1:\n",
        "        track_names.append(item['track']['name'])\n",
        "        artists.append(item['track']['artists'][0]['name'])\n",
        "        preview_urls.append(item['track']['preview_url'])\n",
        "\n",
        "  df=pd.DataFrame(\n",
        "    {\n",
        "        'Track_Name':track_names,\n",
        "        'Artist':artists,\n",
        "        'Preview_Url':preview_urls\n",
        "    }\n",
        "  )\n",
        "  del track_names,artists,preview_urls\n",
        "  return df"
      ],
      "execution_count": null,
      "outputs": []
    },
    {
      "cell_type": "code",
      "metadata": {
        "id": "ZELq1J51dU8A"
      },
      "source": [
        "playlist_ids=['37i9dQZF1DX7J3LlfnX9oG','37i9dQZF1DZ06evO1QM05u','37i9dQZF1DWSthRe0OXm8b']\n",
        "\n",
        "df=create_df_from_playlist(sp,playlist_ids)\n"
      ],
      "execution_count": null,
      "outputs": []
    },
    {
      "cell_type": "code",
      "metadata": {
        "id": "kz0U0xFUcGZ9"
      },
      "source": [
        "def create_audio_array(df):\n",
        "\n",
        "  import pathlib\n",
        "  from urllib.request import urlopen\n",
        "  import io\n",
        "  from pydub import AudioSegment\n",
        "  import numpy as np\n",
        "  from tqdm import tqdm\n",
        "\n",
        "  files=[io.BytesIO(urlopen(url).read()) for url in tqdm(df['Preview_Url'])]\n",
        "\n",
        "  audiosegments=[AudioSegment.from_file(f,format='mp3') for f in tqdm(files)]\n",
        "\n",
        "  samples=np.array([np.array(audio.get_array_of_samples()) for audio in tqdm(audiosegments)])\n",
        "\n",
        "  samples=[sample/32768 for sample in tqdm(samples)]\n",
        "  \n",
        "  samples=[np.reshape(sample,newshape=(-1,2)).T for sample in tqdm(samples)]\n",
        "\n",
        "  df['Audio_array']=samples\n",
        "\n",
        "  del files,audiosegments,samples\n",
        "  return df"
      ],
      "execution_count": null,
      "outputs": []
    },
    {
      "cell_type": "code",
      "metadata": {
        "colab": {
          "base_uri": "https://localhost:8080/"
        },
        "id": "Cg-iWBBogoVv",
        "outputId": "8b62e8a5-f691-47f0-d70b-2edcda97c07f"
      },
      "source": [
        "df=create_audio_array(df)"
      ],
      "execution_count": null,
      "outputs": [
        {
          "output_type": "stream",
          "text": [
            "100%|██████████| 158/158 [00:17<00:00,  9.29it/s]\n",
            "100%|██████████| 158/158 [00:48<00:00,  3.22it/s]\n",
            "100%|██████████| 158/158 [00:01<00:00, 129.63it/s]\n",
            "/usr/local/lib/python3.6/dist-packages/ipykernel_launcher.py:14: VisibleDeprecationWarning: Creating an ndarray from ragged nested sequences (which is a list-or-tuple of lists-or-tuples-or ndarrays with different lengths or shapes) is deprecated. If you meant to do this, you must specify 'dtype=object' when creating the ndarray\n",
            "  \n",
            "100%|██████████| 158/158 [00:02<00:00, 65.70it/s]\n",
            "100%|██████████| 158/158 [00:00<00:00, 60736.87it/s]\n"
          ],
          "name": "stderr"
        }
      ]
    },
    {
      "cell_type": "code",
      "metadata": {
        "id": "iwy959CdrXma"
      },
      "source": [
        "def create_cens_array(df):\n",
        "  \n",
        "  from librosa.feature import chroma_cens\n",
        "  from librosa import to_mono\n",
        "  from tqdm import tqdm\n",
        "\n",
        "  mono_array=[to_mono(y) for y in tqdm(df['Audio_array'])]\n",
        "  cens_result=[chroma_cens(y=y,sr=44100) for y in tqdm(mono_array)]\n",
        "\n",
        "  df['Cens']=cens_result\n",
        "\n",
        "  del mono_array,cens_result\n",
        "\n",
        "  return df"
      ],
      "execution_count": null,
      "outputs": []
    },
    {
      "cell_type": "code",
      "metadata": {
        "colab": {
          "base_uri": "https://localhost:8080/"
        },
        "id": "Istswmj3tauc",
        "outputId": "ca6eba15-80bd-4421-e591-2b0ed5100055"
      },
      "source": [
        "df=create_cens_array(df)"
      ],
      "execution_count": null,
      "outputs": [
        {
          "output_type": "stream",
          "text": [
            "100%|██████████| 158/158 [00:05<00:00, 29.77it/s]\n",
            "100%|██████████| 158/158 [03:01<00:00,  1.15s/it]\n"
          ],
          "name": "stderr"
        }
      ]
    },
    {
      "cell_type": "code",
      "metadata": {
        "colab": {
          "base_uri": "https://localhost:8080/",
          "height": 754
        },
        "id": "98r2GeBuurJ3",
        "outputId": "b7c5cc23-9dd9-48f8-9f96-be677f6eec1e"
      },
      "source": [
        "df"
      ],
      "execution_count": null,
      "outputs": [
        {
          "output_type": "execute_result",
          "data": {
            "text/html": [
              "<div>\n",
              "<style scoped>\n",
              "    .dataframe tbody tr th:only-of-type {\n",
              "        vertical-align: middle;\n",
              "    }\n",
              "\n",
              "    .dataframe tbody tr th {\n",
              "        vertical-align: top;\n",
              "    }\n",
              "\n",
              "    .dataframe thead th {\n",
              "        text-align: right;\n",
              "    }\n",
              "</style>\n",
              "<table border=\"1\" class=\"dataframe\">\n",
              "  <thead>\n",
              "    <tr style=\"text-align: right;\">\n",
              "      <th></th>\n",
              "      <th>Track_Name</th>\n",
              "      <th>Artist</th>\n",
              "      <th>Preview_Url</th>\n",
              "      <th>Audio_array</th>\n",
              "      <th>Cens</th>\n",
              "    </tr>\n",
              "  </thead>\n",
              "  <tbody>\n",
              "    <tr>\n",
              "      <th>0</th>\n",
              "      <td>ROCKET DIVE</td>\n",
              "      <td>Dragon Ash</td>\n",
              "      <td>https://p.scdn.co/mp3-preview/d05a5ed60f7e743d...</td>\n",
              "      <td>[[0.087554931640625, -0.085174560546875, -0.31...</td>\n",
              "      <td>[[0.22353559050696337, 0.2245500409016965, 0.2...</td>\n",
              "    </tr>\n",
              "    <tr>\n",
              "      <th>1</th>\n",
              "      <td>Fantasista</td>\n",
              "      <td>Dragon Ash</td>\n",
              "      <td>https://p.scdn.co/mp3-preview/b73d80aac3208bb2...</td>\n",
              "      <td>[[-0.287750244140625, -0.485687255859375, -0.6...</td>\n",
              "      <td>[[0.2452071422662361, 0.24578546422317596, 0.2...</td>\n",
              "    </tr>\n",
              "    <tr>\n",
              "      <th>2</th>\n",
              "      <td>Revolater</td>\n",
              "      <td>Dragon Ash</td>\n",
              "      <td>https://p.scdn.co/mp3-preview/e3b4a7d4e555b22a...</td>\n",
              "      <td>[[-0.135955810546875, -0.06500244140625, 0.055...</td>\n",
              "      <td>[[0.24667090252192406, 0.2459724200237336, 0.2...</td>\n",
              "    </tr>\n",
              "    <tr>\n",
              "      <th>3</th>\n",
              "      <td>Viva la revolution</td>\n",
              "      <td>Dragon Ash</td>\n",
              "      <td>https://p.scdn.co/mp3-preview/730ca1e227ead853...</td>\n",
              "      <td>[[0.182220458984375, 0.221221923828125, 0.2017...</td>\n",
              "      <td>[[0.23306837947403192, 0.23507425933085432, 0....</td>\n",
              "    </tr>\n",
              "    <tr>\n",
              "      <th>4</th>\n",
              "      <td>Let yourself go, Let myself go</td>\n",
              "      <td>Dragon Ash</td>\n",
              "      <td>https://p.scdn.co/mp3-preview/e78d36236e4b132b...</td>\n",
              "      <td>[[0.1226806640625, 0.139739990234375, 0.199798...</td>\n",
              "      <td>[[0.0192052584685959, 0.023587659305045833, 0....</td>\n",
              "    </tr>\n",
              "    <tr>\n",
              "      <th>...</th>\n",
              "      <td>...</td>\n",
              "      <td>...</td>\n",
              "      <td>...</td>\n",
              "      <td>...</td>\n",
              "      <td>...</td>\n",
              "    </tr>\n",
              "    <tr>\n",
              "      <th>153</th>\n",
              "      <td>また逢える日まで</td>\n",
              "      <td>WANIMA</td>\n",
              "      <td>https://p.scdn.co/mp3-preview/2f0e8097ffcbe1b0...</td>\n",
              "      <td>[[0.031402587890625, 0.04010009765625, 0.05020...</td>\n",
              "      <td>[[0.41661251574338853, 0.41061265061950325, 0....</td>\n",
              "    </tr>\n",
              "    <tr>\n",
              "      <th>154</th>\n",
              "      <td>花火</td>\n",
              "      <td>WANIMA</td>\n",
              "      <td>https://p.scdn.co/mp3-preview/42d0e5d1462a2526...</td>\n",
              "      <td>[[0.639434814453125, 0.8055419921875, 0.836303...</td>\n",
              "      <td>[[0.22543977218564235, 0.22646919524449535, 0....</td>\n",
              "    </tr>\n",
              "    <tr>\n",
              "      <th>155</th>\n",
              "      <td>SNOW</td>\n",
              "      <td>WANIMA</td>\n",
              "      <td>https://p.scdn.co/mp3-preview/2aadef61ec7cefdc...</td>\n",
              "      <td>[[-0.197357177734375, -0.275970458984375, -0.2...</td>\n",
              "      <td>[[0.2532939008009282, 0.2526479697420406, 0.25...</td>\n",
              "    </tr>\n",
              "    <tr>\n",
              "      <th>156</th>\n",
              "      <td>1106</td>\n",
              "      <td>WANIMA</td>\n",
              "      <td>https://p.scdn.co/mp3-preview/36467e84a257959e...</td>\n",
              "      <td>[[0.22528076171875, 0.2340087890625, 0.1240844...</td>\n",
              "      <td>[[0.2564126554574407, 0.2604965909669341, 0.26...</td>\n",
              "    </tr>\n",
              "    <tr>\n",
              "      <th>157</th>\n",
              "      <td>これだけは</td>\n",
              "      <td>WANIMA</td>\n",
              "      <td>https://p.scdn.co/mp3-preview/5477516ccb1c534a...</td>\n",
              "      <td>[[0.02349853515625, -0.08233642578125, -0.1982...</td>\n",
              "      <td>[[0.25312790324757756, 0.25293489254689705, 0....</td>\n",
              "    </tr>\n",
              "  </tbody>\n",
              "</table>\n",
              "<p>158 rows × 5 columns</p>\n",
              "</div>"
            ],
            "text/plain": [
              "                         Track_Name  ...                                               Cens\n",
              "0                       ROCKET DIVE  ...  [[0.22353559050696337, 0.2245500409016965, 0.2...\n",
              "1                        Fantasista  ...  [[0.2452071422662361, 0.24578546422317596, 0.2...\n",
              "2                         Revolater  ...  [[0.24667090252192406, 0.2459724200237336, 0.2...\n",
              "3                Viva la revolution  ...  [[0.23306837947403192, 0.23507425933085432, 0....\n",
              "4    Let yourself go, Let myself go  ...  [[0.0192052584685959, 0.023587659305045833, 0....\n",
              "..                              ...  ...                                                ...\n",
              "153                        また逢える日まで  ...  [[0.41661251574338853, 0.41061265061950325, 0....\n",
              "154                              花火  ...  [[0.22543977218564235, 0.22646919524449535, 0....\n",
              "155                            SNOW  ...  [[0.2532939008009282, 0.2526479697420406, 0.25...\n",
              "156                            1106  ...  [[0.2564126554574407, 0.2604965909669341, 0.26...\n",
              "157                           これだけは  ...  [[0.25312790324757756, 0.25293489254689705, 0....\n",
              "\n",
              "[158 rows x 5 columns]"
            ]
          },
          "metadata": {
            "tags": []
          },
          "execution_count": 11
        }
      ]
    },
    {
      "cell_type": "code",
      "metadata": {
        "id": "yOvVCZ-Ew9yv"
      },
      "source": [
        "name=''\n",
        "#df.to_pickle('/content/drive/MyDrive/spotify_df/{}'.format(name))"
      ],
      "execution_count": null,
      "outputs": []
    },
    {
      "cell_type": "code",
      "metadata": {
        "id": "kYgQfN-F3SOh"
      },
      "source": [
        ""
      ],
      "execution_count": null,
      "outputs": []
    }
  ]
}